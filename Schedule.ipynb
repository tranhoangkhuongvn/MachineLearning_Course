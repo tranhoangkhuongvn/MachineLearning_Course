{
 "cells": [
  {
   "cell_type": "markdown",
   "metadata": {},
   "source": [
    "#### Schedule:\n",
    "1. Three half days:\n",
    "- Part 1, Part 2, Part 3 + Exercises: Introduction & Linear Regression\n",
    "- Part 4, Part 6, Part 7 + Exercises: Classifications\n",
    "- Part 5, Part 8, Part 9 + Exercises + Recap: SVM & Unsupervised Learning\n",
    "\n",
    "TODO: prepare the exercises"
   ]
  },
  {
   "cell_type": "code",
   "execution_count": null,
   "metadata": {},
   "outputs": [],
   "source": []
  }
 ],
 "metadata": {
  "kernelspec": {
   "display_name": "Python 3",
   "language": "python",
   "name": "python3"
  },
  "language_info": {
   "codemirror_mode": {
    "name": "ipython",
    "version": 3
   },
   "file_extension": ".py",
   "mimetype": "text/x-python",
   "name": "python",
   "nbconvert_exporter": "python",
   "pygments_lexer": "ipython3",
   "version": "3.8.3"
  }
 },
 "nbformat": 4,
 "nbformat_minor": 4
}

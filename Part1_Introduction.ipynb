{
 "cells": [
  {
   "cell_type": "markdown",
   "metadata": {},
   "source": [
    "Disclaimer: This file will be updated as modifications are made to the subsequent parts."
   ]
  },
  {
   "cell_type": "markdown",
   "metadata": {},
   "source": [
    "## Objectives:\n",
    "- Give a comprehensive introduction of Machine Learning basics. This includes terminology and concepts, as well as intuition behind certain ML models and techniques.\n",
    "- Demonstrate the application of ML models and techniques using Python and related libraries.\n",
    "- Demonstrate the use of ML models and techniques on real dataset."
   ]
  },
  {
   "cell_type": "markdown",
   "metadata": {},
   "source": [
    "## What sets this course apart and unique?\n",
    "- It is a 1 to 2 days training course which requires an intemediate level of familiarity with Python language.\n",
    "- It does not go in depth into mathematical concepts and formula, however formal intuitions and references are provided to guide the participants for further learning.\n",
    "- We do have applications on real dataset, not just with toys : )\n",
    "- Not one, two, or three, but six ML models are introduced in this course, together with important feature engineering techniques that are guaranteed to be useful in your own projects.\n",
    "- Give you enough background to kickstart your own Machine Learning journey, or transition yourself into Deep Learning. \n",
    "- Useful for 1st year PhD student or anyone who wants to learn about ML but are overwhelmed with the tremendous amount of resources."
   ]
  },
  {
   "cell_type": "markdown",
   "metadata": {},
   "source": [
    "## Prerequisites:\n",
    "- Comfortable with Python syntax and programming concepts\n",
    "- Familiar with Pandas, Numpy and Seaborn, we are going to use them alot\n",
    "- Advanced Linear Algebra, Statistics and Probability, Stochastic Modelling, Calculus .... Just joking, there are only a few Math formula that you are going to see here, however references to Mathematics required for learning about ML will be provided. Having an understanding of the Mathematics behind each ML algorithms is going to make you appreciate the behavior of the model and know its pros/cons when using them."
   ]
  },
  {
   "cell_type": "markdown",
   "metadata": {},
   "source": [
    "## Introduction to course outline\n",
    "- Machine Learning vs Deep Learning\n",
    "- Applications of Machine Learning\n",
    "- Outline topics\n",
    "- Supervised and Unsupervised learning\n",
    "- The ecosystem of Python/ R/ Matlab/ Julia\n",
    "- Outroduction"
   ]
  },
  {
   "cell_type": "code",
   "execution_count": null,
   "metadata": {},
   "outputs": [],
   "source": []
  }
 ],
 "metadata": {
  "kernelspec": {
   "display_name": "Python 3",
   "language": "python",
   "name": "python3"
  },
  "language_info": {
   "codemirror_mode": {
    "name": "ipython",
    "version": 3
   },
   "file_extension": ".py",
   "mimetype": "text/x-python",
   "name": "python",
   "nbconvert_exporter": "python",
   "pygments_lexer": "ipython3",
   "version": "3.8.3"
  }
 },
 "nbformat": 4,
 "nbformat_minor": 4
}
